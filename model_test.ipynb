import numpy as np
import matplotlib.pyplot as plt
from ipycanvas import Canvas
import ipywidgets as widgets
from tensorflow.keras.models import load_model
from skimage.transform import resize
from IPython.display import display

# Load the pre-trained model saved previously
model = load_model("mnist_model.h5")

# Create a canvas for drawing (280x280 pixels, scaled-up for easier drawing)
canvas = Canvas(width=280, height=280)
# Set a white background
canvas.fill_style = "white"
canvas.fill_rect(0, 0, canvas.width, canvas.height)
# Set drawing style (black stroke with a thicker line)
canvas.stroke_style = "black"
canvas.line_width = 15

# Enable drawing on the canvas
def on_mouse_down(x, y):
    canvas.begin_path()
    canvas.move_to(x, y)

def on_mouse_move(x, y):
    canvas.line_to(x, y)
    canvas.stroke()

canvas.on_mouse_down(on_mouse_down)
canvas.on_mouse_move(on_mouse_move)

# Define a callback to clear the canvas
def clear_canvas(b):
    canvas.clear()
    canvas.fill_style = "white"
    canvas.fill_rect(0, 0, canvas.width, canvas.height)

# Define a callback to process the drawing and predict the digit
def predict_digit(b):
    # Retrieve the RGBA image data from the canvas
    data = np.array(canvas.get_image_data(0, 0, canvas.width, canvas.height))
    # Convert RGBA to grayscale using a weighted sum of RGB channels
    grayscale = np.dot(data[...,:3], [0.2989, 0.5870, 0.1140])
    # Invert colors so that the drawn digit is white on a black background
    grayscale = 255 - grayscale
    # Ensure the grayscale image is properly clipped to [0, 255]
    grayscale = np.clip(grayscale, 0, 255)
    # Resize the image to 28x28 pixels as expected by the MNIST model
    resized = resize(grayscale, (28, 28), anti_aliasing=True)
    # Normalize pixel values to [0, 1]
    resized = resized / 255.0
    # Reshape to (1, 28, 28, 1) for the model
    input_img = resized.reshape(1, 28, 28, 1)
    
    # Use the model to predict the digit
    prediction = model.predict(input_img)
    predicted_digit = np.argmax(prediction, axis=1)[0]
    print("Predicted digit:", predicted_digit)
    
    # Optional: Display the preprocessed 28x28 image
    plt.figure()
    plt.imshow(resized, cmap='gray')
    plt.title("Preprocessed Input")
    plt.axis('off')
    plt.show()

# Create Clear and Predict buttons
clear_button = widgets.Button(description="Clear")
clear_button.on_click(clear_canvas)
predict_button = widgets.Button(description="Predict")
predict_button.on_click(predict_digit)

# Display the canvas and buttons in the notebook
display(canvas, widgets.HBox([clear_button, predict_button]))
